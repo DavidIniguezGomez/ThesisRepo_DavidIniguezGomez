{
 "cells": [
  {
   "cell_type": "markdown",
   "id": "f2b7b0b2",
   "metadata": {},
   "source": [
    "## Imports"
   ]
  },
  {
   "cell_type": "code",
   "execution_count": 1,
   "id": "396b9580",
   "metadata": {},
   "outputs": [],
   "source": [
    "import pandas as pd\n",
    "import numpy as np\n",
    "import matplotlib.pyplot as plt\n",
    "import math\n",
    "import seaborn as sns"
   ]
  },
  {
   "cell_type": "markdown",
   "id": "11646973",
   "metadata": {},
   "source": [
    "## Reading data"
   ]
  },
  {
   "cell_type": "markdown",
   "id": "6839c53f",
   "metadata": {},
   "source": [
    "Note that we dismiss Canary Islands, Balearic Islands Ceuta and Melilla because they are not considered in the demand data "
   ]
  },
  {
   "cell_type": "code",
   "execution_count": 2,
   "id": "71a82449",
   "metadata": {},
   "outputs": [
    {
     "data": {
      "text/html": [
       "<div>\n",
       "<style scoped>\n",
       "    .dataframe tbody tr th:only-of-type {\n",
       "        vertical-align: middle;\n",
       "    }\n",
       "\n",
       "    .dataframe tbody tr th {\n",
       "        vertical-align: top;\n",
       "    }\n",
       "\n",
       "    .dataframe thead th {\n",
       "        text-align: right;\n",
       "    }\n",
       "</style>\n",
       "<table border=\"1\" class=\"dataframe\">\n",
       "  <thead>\n",
       "    <tr style=\"text-align: right;\">\n",
       "      <th></th>\n",
       "      <th>Codigos</th>\n",
       "      <th>Provincias</th>\n",
       "      <th>Latitud</th>\n",
       "      <th>Longitud</th>\n",
       "      <th>2014</th>\n",
       "      <th>2015</th>\n",
       "      <th>2016</th>\n",
       "      <th>2017</th>\n",
       "      <th>2018</th>\n",
       "      <th>2019</th>\n",
       "      <th>2020</th>\n",
       "      <th>2021</th>\n",
       "      <th>2022</th>\n",
       "      <th>2023</th>\n",
       "    </tr>\n",
       "  </thead>\n",
       "  <tbody>\n",
       "    <tr>\n",
       "      <th>43</th>\n",
       "      <td>47</td>\n",
       "      <td>Valladolid</td>\n",
       "      <td>41.634126</td>\n",
       "      <td>-4.847191</td>\n",
       "      <td>529157</td>\n",
       "      <td>526288</td>\n",
       "      <td>523679</td>\n",
       "      <td>521130</td>\n",
       "      <td>519851</td>\n",
       "      <td>519546</td>\n",
       "      <td>520649</td>\n",
       "      <td>519361</td>\n",
       "      <td>517975</td>\n",
       "      <td>521333</td>\n",
       "    </tr>\n",
       "    <tr>\n",
       "      <th>44</th>\n",
       "      <td>48</td>\n",
       "      <td>Bizkaia</td>\n",
       "      <td>43.237680</td>\n",
       "      <td>-2.852600</td>\n",
       "      <td>1151905</td>\n",
       "      <td>1148775</td>\n",
       "      <td>1147576</td>\n",
       "      <td>1148302</td>\n",
       "      <td>1149628</td>\n",
       "      <td>1152651</td>\n",
       "      <td>1159443</td>\n",
       "      <td>1154334</td>\n",
       "      <td>1149344</td>\n",
       "      <td>1153282</td>\n",
       "    </tr>\n",
       "    <tr>\n",
       "      <th>45</th>\n",
       "      <td>49</td>\n",
       "      <td>Zamora</td>\n",
       "      <td>41.727174</td>\n",
       "      <td>-5.980539</td>\n",
       "      <td>185432</td>\n",
       "      <td>183436</td>\n",
       "      <td>180406</td>\n",
       "      <td>177404</td>\n",
       "      <td>174549</td>\n",
       "      <td>172539</td>\n",
       "      <td>170588</td>\n",
       "      <td>168725</td>\n",
       "      <td>167215</td>\n",
       "      <td>166927</td>\n",
       "    </tr>\n",
       "    <tr>\n",
       "      <th>46</th>\n",
       "      <td>50</td>\n",
       "      <td>Zaragoza</td>\n",
       "      <td>41.620365</td>\n",
       "      <td>-1.064497</td>\n",
       "      <td>960111</td>\n",
       "      <td>956006</td>\n",
       "      <td>950507</td>\n",
       "      <td>953486</td>\n",
       "      <td>954811</td>\n",
       "      <td>964693</td>\n",
       "      <td>972528</td>\n",
       "      <td>967452</td>\n",
       "      <td>966438</td>\n",
       "      <td>979365</td>\n",
       "    </tr>\n",
       "    <tr>\n",
       "      <th>47</th>\n",
       "      <td>0</td>\n",
       "      <td>TOTAL ESPAÑA</td>\n",
       "      <td>39.695119</td>\n",
       "      <td>-3.202023</td>\n",
       "      <td>46771341</td>\n",
       "      <td>46624382</td>\n",
       "      <td>46557008</td>\n",
       "      <td>46572132</td>\n",
       "      <td>46722980</td>\n",
       "      <td>47026208</td>\n",
       "      <td>47450795</td>\n",
       "      <td>47385107</td>\n",
       "      <td>47475420</td>\n",
       "      <td>48085361</td>\n",
       "    </tr>\n",
       "  </tbody>\n",
       "</table>\n",
       "</div>"
      ],
      "text/plain": [
       "    Codigos    Provincias    Latitud  Longitud      2014      2015      2016  \\\n",
       "43       47    Valladolid  41.634126 -4.847191    529157    526288    523679   \n",
       "44       48       Bizkaia  43.237680 -2.852600   1151905   1148775   1147576   \n",
       "45       49        Zamora  41.727174 -5.980539    185432    183436    180406   \n",
       "46       50      Zaragoza  41.620365 -1.064497    960111    956006    950507   \n",
       "47        0  TOTAL ESPAÑA  39.695119 -3.202023  46771341  46624382  46557008   \n",
       "\n",
       "        2017      2018      2019      2020      2021      2022      2023  \n",
       "43    521130    519851    519546    520649    519361    517975    521333  \n",
       "44   1148302   1149628   1152651   1159443   1154334   1149344   1153282  \n",
       "45    177404    174549    172539    170588    168725    167215    166927  \n",
       "46    953486    954811    964693    972528    967452    966438    979365  \n",
       "47  46572132  46722980  47026208  47450795  47385107  47475420  48085361  "
      ]
     },
     "execution_count": 2,
     "metadata": {},
     "output_type": "execute_result"
    }
   ],
   "source": [
    "cities = pd.read_csv('cities_unified.csv', header = 0)\n",
    "cities = cities[(cities['Provincias'] != 'Melilla') & (cities['Provincias'] != 'Ceuta') & (cities['Provincias'] != 'Santa Cruz de Tenerife') & (cities['Provincias'] != 'Palmas, Las') & (cities['Provincias'] != 'Balears, Illes')]\n",
    "cities.reset_index(drop=True, inplace = True)\n",
    "cities.tail()"
   ]
  },
  {
   "cell_type": "code",
   "execution_count": 3,
   "id": "466b236f",
   "metadata": {},
   "outputs": [
    {
     "data": {
      "text/html": [
       "<div>\n",
       "<style scoped>\n",
       "    .dataframe tbody tr th:only-of-type {\n",
       "        vertical-align: middle;\n",
       "    }\n",
       "\n",
       "    .dataframe tbody tr th {\n",
       "        vertical-align: top;\n",
       "    }\n",
       "\n",
       "    .dataframe thead th {\n",
       "        text-align: right;\n",
       "    }\n",
       "</style>\n",
       "<table border=\"1\" class=\"dataframe\">\n",
       "  <thead>\n",
       "    <tr style=\"text-align: right;\">\n",
       "      <th></th>\n",
       "      <th>Codigo</th>\n",
       "      <th>Provincia</th>\n",
       "      <th>1-2014</th>\n",
       "      <th>2-2014</th>\n",
       "      <th>3-2014</th>\n",
       "      <th>4-2014</th>\n",
       "      <th>5-2014</th>\n",
       "      <th>6-2014</th>\n",
       "      <th>7-2014</th>\n",
       "      <th>8-2014</th>\n",
       "      <th>...</th>\n",
       "      <th>3-2023</th>\n",
       "      <th>4-2023</th>\n",
       "      <th>5-2023</th>\n",
       "      <th>6-2023</th>\n",
       "      <th>7-2023</th>\n",
       "      <th>8-2023</th>\n",
       "      <th>9-2023</th>\n",
       "      <th>10-2023</th>\n",
       "      <th>11-2023</th>\n",
       "      <th>12-2023</th>\n",
       "    </tr>\n",
       "  </thead>\n",
       "  <tbody>\n",
       "    <tr>\n",
       "      <th>43</th>\n",
       "      <td>47</td>\n",
       "      <td>Valladolid</td>\n",
       "      <td>93498</td>\n",
       "      <td>93451</td>\n",
       "      <td>93566</td>\n",
       "      <td>94419</td>\n",
       "      <td>94369</td>\n",
       "      <td>94419</td>\n",
       "      <td>93600</td>\n",
       "      <td>93776</td>\n",
       "      <td>...</td>\n",
       "      <td>111670</td>\n",
       "      <td>112360</td>\n",
       "      <td>112194</td>\n",
       "      <td>112770</td>\n",
       "      <td>112780</td>\n",
       "      <td>113328</td>\n",
       "      <td>113457</td>\n",
       "      <td>114086</td>\n",
       "      <td>113459</td>\n",
       "      <td>113537</td>\n",
       "    </tr>\n",
       "    <tr>\n",
       "      <th>44</th>\n",
       "      <td>48</td>\n",
       "      <td>Bizkaia</td>\n",
       "      <td>92529</td>\n",
       "      <td>92402</td>\n",
       "      <td>92640</td>\n",
       "      <td>93555</td>\n",
       "      <td>93525</td>\n",
       "      <td>93561</td>\n",
       "      <td>92738</td>\n",
       "      <td>92900</td>\n",
       "      <td>...</td>\n",
       "      <td>111128</td>\n",
       "      <td>111660</td>\n",
       "      <td>111744</td>\n",
       "      <td>112665</td>\n",
       "      <td>112700</td>\n",
       "      <td>113205</td>\n",
       "      <td>113485</td>\n",
       "      <td>113534</td>\n",
       "      <td>113198</td>\n",
       "      <td>113152</td>\n",
       "    </tr>\n",
       "    <tr>\n",
       "      <th>45</th>\n",
       "      <td>49</td>\n",
       "      <td>Zamora</td>\n",
       "      <td>93284</td>\n",
       "      <td>93234</td>\n",
       "      <td>93511</td>\n",
       "      <td>94390</td>\n",
       "      <td>94414</td>\n",
       "      <td>94352</td>\n",
       "      <td>93307</td>\n",
       "      <td>93525</td>\n",
       "      <td>...</td>\n",
       "      <td>113086</td>\n",
       "      <td>113937</td>\n",
       "      <td>113791</td>\n",
       "      <td>114536</td>\n",
       "      <td>114620</td>\n",
       "      <td>115011</td>\n",
       "      <td>115115</td>\n",
       "      <td>115517</td>\n",
       "      <td>114885</td>\n",
       "      <td>115055</td>\n",
       "    </tr>\n",
       "    <tr>\n",
       "      <th>46</th>\n",
       "      <td>50</td>\n",
       "      <td>Zaragoza</td>\n",
       "      <td>93588</td>\n",
       "      <td>93570</td>\n",
       "      <td>93708</td>\n",
       "      <td>94676</td>\n",
       "      <td>94661</td>\n",
       "      <td>94614</td>\n",
       "      <td>93792</td>\n",
       "      <td>93965</td>\n",
       "      <td>...</td>\n",
       "      <td>110967</td>\n",
       "      <td>111417</td>\n",
       "      <td>111269</td>\n",
       "      <td>111873</td>\n",
       "      <td>112310</td>\n",
       "      <td>112893</td>\n",
       "      <td>112907</td>\n",
       "      <td>113042</td>\n",
       "      <td>112828</td>\n",
       "      <td>112710</td>\n",
       "    </tr>\n",
       "    <tr>\n",
       "      <th>47</th>\n",
       "      <td>0</td>\n",
       "      <td>TOTAL ESPAÑA</td>\n",
       "      <td>93373</td>\n",
       "      <td>93333</td>\n",
       "      <td>93541</td>\n",
       "      <td>94373</td>\n",
       "      <td>94395</td>\n",
       "      <td>94421</td>\n",
       "      <td>93533</td>\n",
       "      <td>93681</td>\n",
       "      <td>...</td>\n",
       "      <td>111111</td>\n",
       "      <td>111773</td>\n",
       "      <td>111719</td>\n",
       "      <td>112354</td>\n",
       "      <td>112544</td>\n",
       "      <td>113149</td>\n",
       "      <td>113348</td>\n",
       "      <td>113676</td>\n",
       "      <td>113280</td>\n",
       "      <td>113308</td>\n",
       "    </tr>\n",
       "  </tbody>\n",
       "</table>\n",
       "<p>5 rows × 122 columns</p>\n",
       "</div>"
      ],
      "text/plain": [
       "    Codigo     Provincia  1-2014  2-2014  3-2014  4-2014  5-2014  6-2014  \\\n",
       "43      47    Valladolid   93498   93451   93566   94419   94369   94419   \n",
       "44      48       Bizkaia   92529   92402   92640   93555   93525   93561   \n",
       "45      49        Zamora   93284   93234   93511   94390   94414   94352   \n",
       "46      50      Zaragoza   93588   93570   93708   94676   94661   94614   \n",
       "47       0  TOTAL ESPAÑA   93373   93333   93541   94373   94395   94421   \n",
       "\n",
       "    7-2014  8-2014  ...  3-2023  4-2023  5-2023  6-2023  7-2023  8-2023  \\\n",
       "43   93600   93776  ...  111670  112360  112194  112770  112780  113328   \n",
       "44   92738   92900  ...  111128  111660  111744  112665  112700  113205   \n",
       "45   93307   93525  ...  113086  113937  113791  114536  114620  115011   \n",
       "46   93792   93965  ...  110967  111417  111269  111873  112310  112893   \n",
       "47   93533   93681  ...  111111  111773  111719  112354  112544  113149   \n",
       "\n",
       "    9-2023  10-2023  11-2023  12-2023  \n",
       "43  113457   114086   113459   113537  \n",
       "44  113485   113534   113198   113152  \n",
       "45  115115   115517   114885   115055  \n",
       "46  112907   113042   112828   112710  \n",
       "47  113348   113676   113280   113308  \n",
       "\n",
       "[5 rows x 122 columns]"
      ]
     },
     "execution_count": 3,
     "metadata": {},
     "output_type": "execute_result"
    }
   ],
   "source": [
    "ipc = pd.read_csv('IPC.csv', header = 0)\n",
    "ipc = ipc[(ipc['Provincia'] != 'Melilla') & (ipc['Provincia'] != 'Ceuta') & (ipc['Provincia'] != 'Santa Cruz de Tenerife') & (ipc['Provincia'] != 'Palmas, Las') & (ipc['Provincia'] != 'Balears, Illes')]\n",
    "ipc.reset_index(drop=True, inplace = True)\n",
    "ipc.tail()"
   ]
  },
  {
   "cell_type": "code",
   "execution_count": 4,
   "id": "ca335407",
   "metadata": {
    "scrolled": true
   },
   "outputs": [
    {
     "data": {
      "text/html": [
       "<div>\n",
       "<style scoped>\n",
       "    .dataframe tbody tr th:only-of-type {\n",
       "        vertical-align: middle;\n",
       "    }\n",
       "\n",
       "    .dataframe tbody tr th {\n",
       "        vertical-align: top;\n",
       "    }\n",
       "\n",
       "    .dataframe thead th {\n",
       "        text-align: right;\n",
       "    }\n",
       "</style>\n",
       "<table border=\"1\" class=\"dataframe\">\n",
       "  <thead>\n",
       "    <tr style=\"text-align: right;\">\n",
       "      <th></th>\n",
       "      <th>Datetime</th>\n",
       "      <th>Demanda Real</th>\n",
       "      <th>Demanda Prevista</th>\n",
       "      <th>Demanda Programada</th>\n",
       "      <th>Demanda D+1</th>\n",
       "      <th>Precio</th>\n",
       "      <th>temperature_2m_1</th>\n",
       "      <th>direct_normal_irradiance_instant_1</th>\n",
       "      <th>wind_speed_100m_1</th>\n",
       "      <th>temperature_2m_2</th>\n",
       "      <th>...</th>\n",
       "      <th>wind_speed_100m_50</th>\n",
       "      <th>temperature_2m_51</th>\n",
       "      <th>direct_normal_irradiance_instant_51</th>\n",
       "      <th>wind_speed_100m_51</th>\n",
       "      <th>temperature_2m_52</th>\n",
       "      <th>direct_normal_irradiance_instant_52</th>\n",
       "      <th>wind_speed_100m_52</th>\n",
       "      <th>temperature_2m_0</th>\n",
       "      <th>direct_normal_irradiance_instant_0</th>\n",
       "      <th>wind_speed_100m_0</th>\n",
       "    </tr>\n",
       "  </thead>\n",
       "  <tbody>\n",
       "    <tr>\n",
       "      <th>0</th>\n",
       "      <td>2014-01-01 00:00:00</td>\n",
       "      <td>24301.66667</td>\n",
       "      <td>23878.33333</td>\n",
       "      <td>24099.0</td>\n",
       "      <td>0.0</td>\n",
       "      <td>37.21</td>\n",
       "      <td>7.4985</td>\n",
       "      <td>0.0</td>\n",
       "      <td>16.099690</td>\n",
       "      <td>7.874</td>\n",
       "      <td>...</td>\n",
       "      <td>30.758411</td>\n",
       "      <td>11.714001</td>\n",
       "      <td>0.0</td>\n",
       "      <td>17.339897</td>\n",
       "      <td>10.032000</td>\n",
       "      <td>0.0</td>\n",
       "      <td>11.659777</td>\n",
       "      <td>5.791485</td>\n",
       "      <td>0.0</td>\n",
       "      <td>18.565381</td>\n",
       "    </tr>\n",
       "    <tr>\n",
       "      <th>1</th>\n",
       "      <td>2014-01-01 01:00:00</td>\n",
       "      <td>23365.33333</td>\n",
       "      <td>23322.00000</td>\n",
       "      <td>22269.0</td>\n",
       "      <td>0.0</td>\n",
       "      <td>30.57</td>\n",
       "      <td>7.0485</td>\n",
       "      <td>0.0</td>\n",
       "      <td>17.388409</td>\n",
       "      <td>7.724</td>\n",
       "      <td>...</td>\n",
       "      <td>30.312773</td>\n",
       "      <td>11.614000</td>\n",
       "      <td>0.0</td>\n",
       "      <td>18.000000</td>\n",
       "      <td>9.731999</td>\n",
       "      <td>0.0</td>\n",
       "      <td>10.661107</td>\n",
       "      <td>5.709594</td>\n",
       "      <td>0.0</td>\n",
       "      <td>18.443398</td>\n",
       "    </tr>\n",
       "    <tr>\n",
       "      <th>2</th>\n",
       "      <td>2014-01-01 02:00:00</td>\n",
       "      <td>21672.50000</td>\n",
       "      <td>21711.16667</td>\n",
       "      <td>21136.0</td>\n",
       "      <td>0.0</td>\n",
       "      <td>26.30</td>\n",
       "      <td>7.3985</td>\n",
       "      <td>0.0</td>\n",
       "      <td>19.319628</td>\n",
       "      <td>7.574</td>\n",
       "      <td>...</td>\n",
       "      <td>27.792374</td>\n",
       "      <td>11.564000</td>\n",
       "      <td>0.0</td>\n",
       "      <td>17.651016</td>\n",
       "      <td>9.932000</td>\n",
       "      <td>0.0</td>\n",
       "      <td>11.212135</td>\n",
       "      <td>5.620734</td>\n",
       "      <td>0.0</td>\n",
       "      <td>18.401250</td>\n",
       "    </tr>\n",
       "    <tr>\n",
       "      <th>3</th>\n",
       "      <td>2014-01-01 03:00:00</td>\n",
       "      <td>20192.00000</td>\n",
       "      <td>20230.33333</td>\n",
       "      <td>19911.0</td>\n",
       "      <td>0.0</td>\n",
       "      <td>26.18</td>\n",
       "      <td>7.3485</td>\n",
       "      <td>0.0</td>\n",
       "      <td>20.140705</td>\n",
       "      <td>7.424</td>\n",
       "      <td>...</td>\n",
       "      <td>25.772078</td>\n",
       "      <td>11.464001</td>\n",
       "      <td>0.0</td>\n",
       "      <td>18.430452</td>\n",
       "      <td>10.432000</td>\n",
       "      <td>0.0</td>\n",
       "      <td>12.620554</td>\n",
       "      <td>5.597380</td>\n",
       "      <td>0.0</td>\n",
       "      <td>18.198554</td>\n",
       "    </tr>\n",
       "    <tr>\n",
       "      <th>4</th>\n",
       "      <td>2014-01-01 04:00:00</td>\n",
       "      <td>19220.66667</td>\n",
       "      <td>19215.33333</td>\n",
       "      <td>19060.0</td>\n",
       "      <td>0.0</td>\n",
       "      <td>22.40</td>\n",
       "      <td>7.4985</td>\n",
       "      <td>0.0</td>\n",
       "      <td>21.995380</td>\n",
       "      <td>7.374</td>\n",
       "      <td>...</td>\n",
       "      <td>23.732710</td>\n",
       "      <td>11.464001</td>\n",
       "      <td>0.0</td>\n",
       "      <td>18.161278</td>\n",
       "      <td>10.582000</td>\n",
       "      <td>0.0</td>\n",
       "      <td>14.058450</td>\n",
       "      <td>5.656951</td>\n",
       "      <td>0.0</td>\n",
       "      <td>18.100382</td>\n",
       "    </tr>\n",
       "  </tbody>\n",
       "</table>\n",
       "<p>5 rows × 165 columns</p>\n",
       "</div>"
      ],
      "text/plain": [
       "             Datetime  Demanda Real  Demanda Prevista  Demanda Programada  \\\n",
       "0 2014-01-01 00:00:00   24301.66667       23878.33333             24099.0   \n",
       "1 2014-01-01 01:00:00   23365.33333       23322.00000             22269.0   \n",
       "2 2014-01-01 02:00:00   21672.50000       21711.16667             21136.0   \n",
       "3 2014-01-01 03:00:00   20192.00000       20230.33333             19911.0   \n",
       "4 2014-01-01 04:00:00   19220.66667       19215.33333             19060.0   \n",
       "\n",
       "   Demanda D+1  Precio  temperature_2m_1  direct_normal_irradiance_instant_1  \\\n",
       "0          0.0   37.21            7.4985                                 0.0   \n",
       "1          0.0   30.57            7.0485                                 0.0   \n",
       "2          0.0   26.30            7.3985                                 0.0   \n",
       "3          0.0   26.18            7.3485                                 0.0   \n",
       "4          0.0   22.40            7.4985                                 0.0   \n",
       "\n",
       "   wind_speed_100m_1  temperature_2m_2  ...  wind_speed_100m_50  \\\n",
       "0          16.099690             7.874  ...           30.758411   \n",
       "1          17.388409             7.724  ...           30.312773   \n",
       "2          19.319628             7.574  ...           27.792374   \n",
       "3          20.140705             7.424  ...           25.772078   \n",
       "4          21.995380             7.374  ...           23.732710   \n",
       "\n",
       "   temperature_2m_51  direct_normal_irradiance_instant_51  wind_speed_100m_51  \\\n",
       "0          11.714001                                  0.0           17.339897   \n",
       "1          11.614000                                  0.0           18.000000   \n",
       "2          11.564000                                  0.0           17.651016   \n",
       "3          11.464001                                  0.0           18.430452   \n",
       "4          11.464001                                  0.0           18.161278   \n",
       "\n",
       "   temperature_2m_52  direct_normal_irradiance_instant_52  wind_speed_100m_52  \\\n",
       "0          10.032000                                  0.0           11.659777   \n",
       "1           9.731999                                  0.0           10.661107   \n",
       "2           9.932000                                  0.0           11.212135   \n",
       "3          10.432000                                  0.0           12.620554   \n",
       "4          10.582000                                  0.0           14.058450   \n",
       "\n",
       "   temperature_2m_0  direct_normal_irradiance_instant_0  wind_speed_100m_0  \n",
       "0          5.791485                                 0.0          18.565381  \n",
       "1          5.709594                                 0.0          18.443398  \n",
       "2          5.620734                                 0.0          18.401250  \n",
       "3          5.597380                                 0.0          18.198554  \n",
       "4          5.656951                                 0.0          18.100382  \n",
       "\n",
       "[5 rows x 165 columns]"
      ]
     },
     "execution_count": 4,
     "metadata": {},
     "output_type": "execute_result"
    }
   ],
   "source": [
    "demanda_meteo = pd.read_csv('demanda_meteo.csv', header = 0)\n",
    "demanda_meteo['Datetime'] = pd.to_datetime(demanda_meteo['Datetime'])\n",
    "demanda_meteo.head()"
   ]
  },
  {
   "cell_type": "code",
   "execution_count": 5,
   "id": "d971f323",
   "metadata": {
    "scrolled": true
   },
   "outputs": [
    {
     "data": {
      "text/html": [
       "<div>\n",
       "<style scoped>\n",
       "    .dataframe tbody tr th:only-of-type {\n",
       "        vertical-align: middle;\n",
       "    }\n",
       "\n",
       "    .dataframe tbody tr th {\n",
       "        vertical-align: top;\n",
       "    }\n",
       "\n",
       "    .dataframe thead th {\n",
       "        text-align: right;\n",
       "    }\n",
       "</style>\n",
       "<table border=\"1\" class=\"dataframe\">\n",
       "  <thead>\n",
       "    <tr style=\"text-align: right;\">\n",
       "      <th></th>\n",
       "      <th>Day</th>\n",
       "      <th>Day of the week</th>\n",
       "      <th>Coruña, A</th>\n",
       "      <th>Albacete</th>\n",
       "      <th>Alicante/Alacant</th>\n",
       "      <th>Almería</th>\n",
       "      <th>Araba/Álava</th>\n",
       "      <th>Asturias</th>\n",
       "      <th>Badajoz</th>\n",
       "      <th>Barcelona</th>\n",
       "      <th>...</th>\n",
       "      <th>Soria</th>\n",
       "      <th>Tarragona</th>\n",
       "      <th>Teruel</th>\n",
       "      <th>Toledo</th>\n",
       "      <th>Valencia/València</th>\n",
       "      <th>Valladolid</th>\n",
       "      <th>Zamora</th>\n",
       "      <th>Zaragoza</th>\n",
       "      <th>Ávila</th>\n",
       "      <th>sumafest</th>\n",
       "    </tr>\n",
       "  </thead>\n",
       "  <tbody>\n",
       "    <tr>\n",
       "      <th>0</th>\n",
       "      <td>2014-01-01</td>\n",
       "      <td>X</td>\n",
       "      <td>1</td>\n",
       "      <td>1</td>\n",
       "      <td>1</td>\n",
       "      <td>1</td>\n",
       "      <td>1</td>\n",
       "      <td>1</td>\n",
       "      <td>1</td>\n",
       "      <td>1</td>\n",
       "      <td>...</td>\n",
       "      <td>1</td>\n",
       "      <td>1</td>\n",
       "      <td>1</td>\n",
       "      <td>1</td>\n",
       "      <td>1</td>\n",
       "      <td>1</td>\n",
       "      <td>1</td>\n",
       "      <td>1</td>\n",
       "      <td>1</td>\n",
       "      <td>1.000000</td>\n",
       "    </tr>\n",
       "    <tr>\n",
       "      <th>1</th>\n",
       "      <td>2014-01-02</td>\n",
       "      <td>J</td>\n",
       "      <td>0</td>\n",
       "      <td>0</td>\n",
       "      <td>0</td>\n",
       "      <td>0</td>\n",
       "      <td>0</td>\n",
       "      <td>0</td>\n",
       "      <td>0</td>\n",
       "      <td>0</td>\n",
       "      <td>...</td>\n",
       "      <td>0</td>\n",
       "      <td>0</td>\n",
       "      <td>0</td>\n",
       "      <td>0</td>\n",
       "      <td>0</td>\n",
       "      <td>0</td>\n",
       "      <td>0</td>\n",
       "      <td>0</td>\n",
       "      <td>0</td>\n",
       "      <td>0.019659</td>\n",
       "    </tr>\n",
       "    <tr>\n",
       "      <th>2</th>\n",
       "      <td>2014-01-03</td>\n",
       "      <td>V</td>\n",
       "      <td>0</td>\n",
       "      <td>0</td>\n",
       "      <td>0</td>\n",
       "      <td>0</td>\n",
       "      <td>0</td>\n",
       "      <td>0</td>\n",
       "      <td>0</td>\n",
       "      <td>0</td>\n",
       "      <td>...</td>\n",
       "      <td>0</td>\n",
       "      <td>0</td>\n",
       "      <td>0</td>\n",
       "      <td>0</td>\n",
       "      <td>0</td>\n",
       "      <td>0</td>\n",
       "      <td>0</td>\n",
       "      <td>0</td>\n",
       "      <td>0</td>\n",
       "      <td>0.000000</td>\n",
       "    </tr>\n",
       "    <tr>\n",
       "      <th>3</th>\n",
       "      <td>2014-01-04</td>\n",
       "      <td>S</td>\n",
       "      <td>0</td>\n",
       "      <td>0</td>\n",
       "      <td>0</td>\n",
       "      <td>0</td>\n",
       "      <td>0</td>\n",
       "      <td>0</td>\n",
       "      <td>0</td>\n",
       "      <td>0</td>\n",
       "      <td>...</td>\n",
       "      <td>0</td>\n",
       "      <td>0</td>\n",
       "      <td>0</td>\n",
       "      <td>0</td>\n",
       "      <td>0</td>\n",
       "      <td>0</td>\n",
       "      <td>0</td>\n",
       "      <td>0</td>\n",
       "      <td>0</td>\n",
       "      <td>0.000000</td>\n",
       "    </tr>\n",
       "    <tr>\n",
       "      <th>4</th>\n",
       "      <td>2014-01-05</td>\n",
       "      <td>D</td>\n",
       "      <td>0</td>\n",
       "      <td>0</td>\n",
       "      <td>0</td>\n",
       "      <td>0</td>\n",
       "      <td>0</td>\n",
       "      <td>0</td>\n",
       "      <td>0</td>\n",
       "      <td>0</td>\n",
       "      <td>...</td>\n",
       "      <td>0</td>\n",
       "      <td>0</td>\n",
       "      <td>0</td>\n",
       "      <td>0</td>\n",
       "      <td>0</td>\n",
       "      <td>0</td>\n",
       "      <td>0</td>\n",
       "      <td>0</td>\n",
       "      <td>0</td>\n",
       "      <td>1.000000</td>\n",
       "    </tr>\n",
       "  </tbody>\n",
       "</table>\n",
       "<p>5 rows × 50 columns</p>\n",
       "</div>"
      ],
      "text/plain": [
       "         Day Day of the week  Coruña, A  Albacete  Alicante/Alacant  Almería  \\\n",
       "0 2014-01-01               X          1         1                 1        1   \n",
       "1 2014-01-02               J          0         0                 0        0   \n",
       "2 2014-01-03               V          0         0                 0        0   \n",
       "3 2014-01-04               S          0         0                 0        0   \n",
       "4 2014-01-05               D          0         0                 0        0   \n",
       "\n",
       "   Araba/Álava  Asturias  Badajoz  Barcelona  ...  Soria  Tarragona  Teruel  \\\n",
       "0            1         1        1          1  ...      1          1       1   \n",
       "1            0         0        0          0  ...      0          0       0   \n",
       "2            0         0        0          0  ...      0          0       0   \n",
       "3            0         0        0          0  ...      0          0       0   \n",
       "4            0         0        0          0  ...      0          0       0   \n",
       "\n",
       "   Toledo  Valencia/València  Valladolid  Zamora  Zaragoza  Ávila  sumafest  \n",
       "0       1                  1           1       1         1      1  1.000000  \n",
       "1       0                  0           0       0         0      0  0.019659  \n",
       "2       0                  0           0       0         0      0  0.000000  \n",
       "3       0                  0           0       0         0      0  0.000000  \n",
       "4       0                  0           0       0         0      0  1.000000  \n",
       "\n",
       "[5 rows x 50 columns]"
      ]
     },
     "execution_count": 5,
     "metadata": {},
     "output_type": "execute_result"
    }
   ],
   "source": [
    "festivos = pd.read_csv('Festivos.csv', header = 0)\n",
    "festivos['Day'] = pd.to_datetime(festivos['Day'])\n",
    "festivos = festivos.drop(['Melilla', 'Ceuta', 'Santa Cruz de Tenerife', 'Palmas, Las', 'Balears, Illes'], axis = 1)\n",
    "festivos.head()"
   ]
  },
  {
   "cell_type": "code",
   "execution_count": 6,
   "id": "675bab34",
   "metadata": {
    "scrolled": true
   },
   "outputs": [
    {
     "data": {
      "text/html": [
       "<div>\n",
       "<style scoped>\n",
       "    .dataframe tbody tr th:only-of-type {\n",
       "        vertical-align: middle;\n",
       "    }\n",
       "\n",
       "    .dataframe tbody tr th {\n",
       "        vertical-align: top;\n",
       "    }\n",
       "\n",
       "    .dataframe thead th {\n",
       "        text-align: right;\n",
       "    }\n",
       "</style>\n",
       "<table border=\"1\" class=\"dataframe\">\n",
       "  <thead>\n",
       "    <tr style=\"text-align: right;\">\n",
       "      <th></th>\n",
       "      <th>Codigo</th>\n",
       "      <th>Provincia</th>\n",
       "      <th>1-2014</th>\n",
       "      <th>2-2014</th>\n",
       "      <th>3-2014</th>\n",
       "      <th>4-2014</th>\n",
       "      <th>5-2014</th>\n",
       "      <th>6-2014</th>\n",
       "      <th>7-2014</th>\n",
       "      <th>8-2014</th>\n",
       "      <th>...</th>\n",
       "      <th>3-2023</th>\n",
       "      <th>4-2023</th>\n",
       "      <th>5-2023</th>\n",
       "      <th>6-2023</th>\n",
       "      <th>7-2023</th>\n",
       "      <th>8-2023</th>\n",
       "      <th>9-2023</th>\n",
       "      <th>10-2023</th>\n",
       "      <th>11-2023</th>\n",
       "      <th>12-2023</th>\n",
       "    </tr>\n",
       "  </thead>\n",
       "  <tbody>\n",
       "    <tr>\n",
       "      <th>0</th>\n",
       "      <td>0</td>\n",
       "      <td>TOTAL ESPAÑA</td>\n",
       "      <td>925468</td>\n",
       "      <td>925468</td>\n",
       "      <td>925468</td>\n",
       "      <td>969598</td>\n",
       "      <td>969598</td>\n",
       "      <td>969598</td>\n",
       "      <td>960418</td>\n",
       "      <td>960418</td>\n",
       "      <td>...</td>\n",
       "      <td>1099141</td>\n",
       "      <td>1139036</td>\n",
       "      <td>1139036</td>\n",
       "      <td>1139036</td>\n",
       "      <td>1127405</td>\n",
       "      <td>1127405</td>\n",
       "      <td>1127405</td>\n",
       "      <td>1171293</td>\n",
       "      <td>1171293</td>\n",
       "      <td>1171293</td>\n",
       "    </tr>\n",
       "  </tbody>\n",
       "</table>\n",
       "<p>1 rows × 122 columns</p>\n",
       "</div>"
      ],
      "text/plain": [
       "   Codigo     Provincia  1-2014  2-2014  3-2014  4-2014  5-2014  6-2014  \\\n",
       "0       0  TOTAL ESPAÑA  925468  925468  925468  969598  969598  969598   \n",
       "\n",
       "   7-2014  8-2014  ...   3-2023   4-2023   5-2023   6-2023   7-2023   8-2023  \\\n",
       "0  960418  960418  ...  1099141  1139036  1139036  1139036  1127405  1127405   \n",
       "\n",
       "    9-2023  10-2023  11-2023  12-2023  \n",
       "0  1127405  1171293  1171293  1171293  \n",
       "\n",
       "[1 rows x 122 columns]"
      ]
     },
     "execution_count": 6,
     "metadata": {},
     "output_type": "execute_result"
    }
   ],
   "source": [
    "pib = pd.read_csv('PIB.csv', header = 0)\n",
    "pib.head()"
   ]
  },
  {
   "cell_type": "markdown",
   "id": "ac0e8ca9",
   "metadata": {},
   "source": [
    "## X and Y creation and definition of the metrics"
   ]
  },
  {
   "cell_type": "code",
   "execution_count": 7,
   "id": "9fde8224",
   "metadata": {},
   "outputs": [],
   "source": [
    "ndays_base = 28\n",
    "ntemps = 5\n",
    "nrads = 5\n",
    "normalization = True\n",
    "name_file = str(ndays_base)+'Days-'+str(ntemps)+'Temps-'+str(nrads)+'Rads.csv'"
   ]
  },
  {
   "cell_type": "code",
   "execution_count": 8,
   "id": "30cec37f",
   "metadata": {},
   "outputs": [],
   "source": [
    "combined_base = pd.read_csv('./Base Inputs/Variations/'+name_file,header=0)\n",
    "combined_base['Datetime'] = pd.to_datetime(combined_base['Datetime'])"
   ]
  },
  {
   "cell_type": "code",
   "execution_count": 9,
   "id": "f608f247",
   "metadata": {},
   "outputs": [
    {
     "name": "stdout",
     "output_type": "stream",
     "text": [
      "          F         L        M        X         J         V        S  \\\n",
      "Delta   1.0  5.784642  7.22602  7.22602  7.244857  7.244857  7.22602   \n",
      "Minimo  0.0  0.000000  0.00000  0.00000  0.000000  0.000000  0.00000   \n",
      "\n",
      "             IPC       Demanda  Temp_Ocean  ...  Temp_Med_S  Temp_Arido  \\\n",
      "Delta   0.049660  19473.440477   24.296530  ...   25.021825   28.537216   \n",
      "Minimo  0.980921  18153.351190  -12.109515  ...  -13.621727  -15.437454   \n",
      "\n",
      "        Temp_Cont    Rad_Ocean    Rad_Med_N    Rad_Med_S    Rad_Arido  \\\n",
      "Delta   26.177648  1228.312175  1464.261728  1347.446777  1444.313131   \n",
      "Minimo -13.733033  -594.248623  -779.341384  -765.815529  -835.420535   \n",
      "\n",
      "           Rad_Cont     Viento      Precio  \n",
      "Delta   1265.719331  45.945262  351.530714  \n",
      "Minimo  -729.556146 -16.960417   11.779643  \n",
      "\n",
      "[2 rows x 21 columns]\n"
     ]
    }
   ],
   "source": [
    "cols = combined_base.columns\n",
    "if normalization:\n",
    "    normalization_parameters = {i:[] for i in cols[4:]}\n",
    "    for name in cols[4:]:\n",
    "        aux = combined_base[name].values\n",
    "        delta = max(aux)-min(aux)\n",
    "        minimo = min(aux)\n",
    "        normalization_parameters[name].append(delta)\n",
    "        normalization_parameters[name].append(minimo)\n",
    "        aux = (aux - min(aux))/(max(aux)-min(aux))\n",
    "        combined_base[name] = aux\n",
    "    normalization_parameters = pd.DataFrame(normalization_parameters)\n",
    "    normalization_parameters = normalization_parameters.rename(index={0: 'Delta', 1: 'Minimo'})\n",
    "    print (normalization_parameters)"
   ]
  },
  {
   "cell_type": "code",
   "execution_count": 10,
   "id": "6496a5bf",
   "metadata": {},
   "outputs": [],
   "source": [
    "años_train = 8\n",
    "años_validation = 1\n",
    "años_test = 10 - años_train - años_validation\n",
    "\n",
    "start_year = 2014\n",
    "days_year = [365,365,366,365,365,365,366,365,365,365]\n",
    "days_month = [31,28,31,30,31,30,31,31,30,31,30,31]\n",
    "days_bisiesto = [31,29,31,30,31,30,31,31,30,31,30,31]\n",
    "\n",
    "days_training = sum (days_year[:años_train])\n",
    "hours_training = 24*days_training\n",
    "\n",
    "days_validation = sum (days_year[años_train:años_train+años_validation])\n",
    "hours_validation = 24*days_validation\n",
    "\n",
    "days_testing = sum(days_year[años_train+años_validation:])\n",
    "hours_testing = 24*days_testing"
   ]
  },
  {
   "cell_type": "code",
   "execution_count": 11,
   "id": "1fb3a385",
   "metadata": {},
   "outputs": [],
   "source": [
    "x = []\n",
    "y = []\n",
    "x_train = []\n",
    "x_val = []\n",
    "x_test = []\n",
    "y_train = []\n",
    "y_val = []\n",
    "y_test = []\n",
    "prevision = []\n",
    "prevision_train = []\n",
    "prevision_val = []\n",
    "prevision_test = []"
   ]
  },
  {
   "cell_type": "code",
   "execution_count": 12,
   "id": "2b0bc373",
   "metadata": {},
   "outputs": [],
   "source": [
    "filtered_df = combined_base[combined_base['Datetime'].dt.year - start_year < años_train]\n",
    "for index, row in filtered_df.iterrows():\n",
    "    x_train.append(row[1:]) ## dropeamos datetime\n",
    "\n",
    "filtered_df = combined_base[(combined_base['Datetime'].dt.year - start_year - años_train < años_validation) & (combined_base['Datetime'].dt.year - start_year - años_train >= 0) ]\n",
    "for index, row in filtered_df.iterrows():\n",
    "    x_val.append(row[1:]) ## dropeamos datetime\n",
    "\n",
    "filtered_df = combined_base[(combined_base['Datetime'].dt.year - start_year - años_train - años_validation < años_test) & (combined_base['Datetime'].dt.year - start_year - años_train - años_validation >= 0)]\n",
    "for index, row in filtered_df.iterrows():\n",
    "    x_test.append(row[1:]) ## dropeamos datetime\n",
    "\n",
    "x = x_train + x_val + x_test "
   ]
  },
  {
   "cell_type": "code",
   "execution_count": 13,
   "id": "1021c391",
   "metadata": {},
   "outputs": [
    {
     "name": "stdout",
     "output_type": "stream",
     "text": [
      "2014-02-01 00:00:00\n"
     ]
    }
   ],
   "source": [
    "threshold = combined_base['Datetime'][0]\n",
    "auxdemanda = demanda_meteo[demanda_meteo['Datetime']>=threshold]\n",
    "auxdemanda.reset_index(drop=True, inplace=True)\n",
    "print (auxdemanda['Datetime'][0])\n",
    "for i in range (len(auxdemanda)):\n",
    "    if normalization:\n",
    "        real = (auxdemanda['Demanda Real'][i] - normalization_parameters['Demanda']['Minimo'])/normalization_parameters['Demanda']['Delta']\n",
    "        prevista = (auxdemanda['Demanda D+1'][i] - normalization_parameters['Demanda']['Minimo'])/normalization_parameters['Demanda']['Delta']\n",
    "    else:\n",
    "        real = auxdemanda['Demanda Real'][i]\n",
    "        prevista = auxdemanda['Demanda D+1'][i]\n",
    "    \n",
    "    y.append(real)\n",
    "    prevision.append(prevista)\n",
    "\n",
    "    if (auxdemanda['Datetime'][i].year- start_year < años_train):\n",
    "        y_train.append(real)\n",
    "        prevision_train.append(prevista)\n",
    "\n",
    "    elif (auxdemanda['Datetime'][i].year- start_year - años_train < años_validation):\n",
    "        y_val.append(real)\n",
    "        prevision_val.append(prevista)\n",
    "\n",
    "    elif (auxdemanda['Datetime'][i].year - start_year - años_train - años_validation < años_test):\n",
    "        y_test.append(real)\n",
    "        prevision_test.append(prevista)"
   ]
  },
  {
   "cell_type": "code",
   "execution_count": 14,
   "id": "b51151b9",
   "metadata": {
    "scrolled": true
   },
   "outputs": [
    {
     "name": "stdout",
     "output_type": "stream",
     "text": [
      "86904 69384 8760 8760\n"
     ]
    }
   ],
   "source": [
    "print (len(x), len(x_train), len(x_val), len(x_test))"
   ]
  },
  {
   "cell_type": "code",
   "execution_count": 15,
   "id": "d6d90cd9",
   "metadata": {},
   "outputs": [],
   "source": [
    "exog_train = combined_base[combined_base['Datetime'].dt.year - start_year < años_train]\n",
    "exog_val = combined_base[(combined_base['Datetime'].dt.year - start_year - años_train < años_validation) & (combined_base['Datetime'].dt.year - start_year - años_train >= 0) ]\n",
    "exog_test = combined_base[(combined_base['Datetime'].dt.year - start_year - años_train - años_validation < años_test) & (combined_base['Datetime'].dt.year - start_year - años_train - años_validation >= 0)]\n",
    "\n",
    "exog_train = exog_train.drop(['Datetime', 'Demanda', 'Precio', 'IPC'], axis=1)\n",
    "exog_val = exog_val.drop(['Datetime', 'Demanda', 'Precio', 'IPC'], axis=1)\n",
    "exog_test = exog_test.drop(['Datetime', 'Demanda', 'Precio', 'IPC'], axis=1)\n",
    "\n",
    "# Concatenate exog_train and exog_val into a single DataFrame\n",
    "exog_train_val = pd.concat([exog_train, exog_val]).reset_index(drop=True)\n",
    "\n",
    "exog_train_val_test = pd.concat([exog_train_val, exog_test]).reset_index(drop=True)\n",
    "\n",
    "exog_val = exog_val.reset_index(drop=True)\n",
    "exog_test = exog_test.reset_index(drop=True)"
   ]
  },
  {
   "cell_type": "markdown",
   "id": "861a457f",
   "metadata": {},
   "source": [
    "# Functions that will be used later"
   ]
  },
  {
   "cell_type": "code",
   "execution_count": 16,
   "id": "d896d3b5",
   "metadata": {},
   "outputs": [],
   "source": [
    "lags = [24*i for i in range(1, ndays_base+1)]\n",
    "lags = sorted(lags)"
   ]
  },
  {
   "cell_type": "code",
   "execution_count": 17,
   "id": "acc033dd",
   "metadata": {},
   "outputs": [],
   "source": [
    "from skforecast.ForecasterAutoreg import ForecasterAutoreg\n",
    "from lightgbm import LGBMRegressor\n",
    "from xgboost.sklearn import XGBRegressor\n",
    "\n",
    "def fit_model (y_,flag_exog,exog, lags=lags,model=XGBRegressor()):\n",
    "    \n",
    "    # Crear el forecaster\n",
    "    # ==============================================================================\n",
    "    forecaster = ForecasterAutoreg(\n",
    "                     regressor = model,\n",
    "                     lags = lags\n",
    "                 )\n",
    "\n",
    "    # Entrena el forecaster\n",
    "    # ==============================================================================\n",
    "    if flag_exog:\n",
    "        forecaster.fit(y=pd.Series(y_), \n",
    "                         exog=exog)\n",
    "    else:\n",
    "        forecaster.fit(y=pd.Series(y_))\n",
    "    \n",
    "    return forecaster"
   ]
  },
  {
   "cell_type": "code",
   "execution_count": 18,
   "id": "eb26939e",
   "metadata": {},
   "outputs": [],
   "source": [
    "def predict (forecaster, y_, start, npreds, flag_exog, exog, lags=lags,steps = 24):\n",
    "    cont = 0\n",
    "    preds_list = []\n",
    "    start_window = start-max(lags)\n",
    "    end_window = start\n",
    "    while cont < npreds:\n",
    "        window = pd.Series(y_[start_window:end_window])\n",
    "\n",
    "        if flag_exog:\n",
    "            window_exog = exog.loc[cont:cont+steps]\n",
    "            window_exog = window_exog.reset_index(drop=True, inplace=False)\n",
    "            window_exog.index = window_exog.index + len(window)\n",
    "    #         print (window_exog)\n",
    "            preds = forecaster.predict(steps=steps,last_window=window,exog=window_exog)\n",
    "\n",
    "        else:\n",
    "            preds = forecaster.predict(steps=steps,last_window=window)\n",
    "\n",
    "        preds_list.append(list(preds))\n",
    "\n",
    "        cont += steps\n",
    "        start_window += steps\n",
    "        end_window += steps\n",
    "\n",
    "    predictions = [item for sublist in preds_list for item in sublist]\n",
    "    \n",
    "    return predictions"
   ]
  },
  {
   "cell_type": "code",
   "execution_count": 19,
   "id": "21aabc76",
   "metadata": {},
   "outputs": [],
   "source": [
    "def scatter_predictions (y_,predictions):\n",
    "    plt.title ('Real vs Predicted')\n",
    "    plt.scatter(y_, predictions)\n",
    "    plt.plot([min(min(y_),min(predictions)),max(max(y_),max(predictions))], [min(min(y_),min(predictions)),max(max(y_),max(predictions))])\n",
    "    plt.xlabel('Real')\n",
    "    plt.ylabel('Predicted')\n",
    "    plt.show()"
   ]
  },
  {
   "cell_type": "code",
   "execution_count": 20,
   "id": "32011534",
   "metadata": {},
   "outputs": [],
   "source": [
    "def plot_evolution (y_,predictions,prevision,ndias=100):\n",
    "    plt.title ('Evolucion de predicciones')\n",
    "    plt.plot(predictions[:ndias], label = 'XGB')\n",
    "    plt.plot(y_[:ndias], label = 'Validation set')\n",
    "    plt.plot(prevision[:ndias], label = 'Prevision')\n",
    "    plt.legend(loc='lower left')\n",
    "    plt.show()"
   ]
  },
  {
   "cell_type": "code",
   "execution_count": 21,
   "id": "8c1652c9",
   "metadata": {},
   "outputs": [],
   "source": [
    "def metrics (preds, val, normalized = normalization):\n",
    "    df = {}\n",
    "    if normalized:\n",
    "        auxpreds = np.array(preds)*normalization_parameters['Demanda']['Delta']+normalization_parameters['Demanda']['Minimo']\n",
    "        auxval = np.array(val)*normalization_parameters['Demanda']['Delta']+normalization_parameters['Demanda']['Minimo']\n",
    "    else:\n",
    "        auxpreds = np.array(preds)\n",
    "        auxval = np.array(val)\n",
    "#     all_hours = pd.date_range(start=df['Date'].min(), end=df['Date'].max() + pd.Timedelta(days=1), freq='H')[:-1]\n",
    "\n",
    "    df['Datetime'] = demanda_meteo[(demanda_meteo['Datetime'].dt.year - start_year - años_train - años_validation < años_test) & (demanda_meteo['Datetime'].dt.year - start_year - años_train - años_validation >= 0)]['Datetime']\n",
    "    df['Error'] = auxpreds-auxval\n",
    "    df['Absolute Error'] = abs(df['Error'])\n",
    "    df['Squared Error'] = (auxpreds-auxval)*(auxpreds-auxval)\n",
    "    df['Relative Error'] = 100*abs((auxpreds-auxval)/auxval)\n",
    "    overall = [np.sqrt(np.mean(df['Error']*df['Error'])), np.mean(df['Absolute Error']),np.mean(df['Relative Error']), max(df['Absolute Error'])]\n",
    "    \n",
    "    # Assuming your dictionary is named 'data_dict'\n",
    "    # Concatenate dataframes from the dictionary into one large dataframe\n",
    "#     combined_df = pd.concat([d.assign(datetime=pd.to_datetime(df['Datetime'], format='%d-%m-%Y') + pd.DateOffset(hours=hour)) \n",
    "#                              for hour, d in df.items()])\n",
    "#     combined_df = pd.concat([d for d in df.items()])\n",
    "\n",
    "    print([[name, len(df[name])] for name in df.keys()])\n",
    "    df = pd.DataFrame(df)\n",
    "    # Sort the dataframe by the datetime column\n",
    "    df = df.sort_values(by='Datetime')\n",
    "\n",
    "    # Convert datetime column to the desired format (day-month-year hour)\n",
    "#     combined_df['Datetime'] = combined_df['Datetime'].dt.strptime(combined_df['Datetime'], '%Y-%m-%d %H:%M:%S')\n",
    "\n",
    "    # Optionally, reset index if needed\n",
    "    df = df.reset_index(drop=True)\n",
    "\n",
    "    # Now, combined_df contains the concatenated and sorted dataframe with the desired datetime format,\n",
    "    # where the hour comes from the key of the dictionary\n",
    "    \n",
    "    return df,overall\n",
    "#     return combined_df"
   ]
  },
  {
   "cell_type": "markdown",
   "id": "bedb857d",
   "metadata": {},
   "source": [
    "# Linear"
   ]
  },
  {
   "cell_type": "code",
   "execution_count": 22,
   "id": "78af479b",
   "metadata": {},
   "outputs": [],
   "source": [
    "from skforecast.ForecasterAutoreg import ForecasterAutoreg\n",
    "from sklearn.linear_model import LinearRegression\n",
    "\n",
    "# Crear el forecaster\n",
    "# ==============================================================================\n",
    "Linear_forecaster = ForecasterAutoreg(\n",
    "                 regressor = LinearRegression(),\n",
    "#                  lags = [1, 2, 3] + [24*i-1 for i in range(1, 8)] + [24*i for i in range(1, 8)] + [24*i+1 for i in range(1, 8)]\n",
    "                 lags = lags\n",
    "            )\n",
    "             \n",
    "# Entrena el forecaster\n",
    "# ==============================================================================\n",
    "Linear_forecaster.fit(y=pd.Series(y_train+y_val),\n",
    "                  exog = exog_train_val)\n",
    "# forecaster"
   ]
  },
  {
   "cell_type": "code",
   "execution_count": 23,
   "id": "75499af6",
   "metadata": {},
   "outputs": [],
   "source": [
    "Linear_predictions = predict (Linear_forecaster, y, len(y_train+y_val), len(y_test), True, exog_test)"
   ]
  },
  {
   "cell_type": "code",
   "execution_count": 24,
   "id": "92d3b3e2",
   "metadata": {},
   "outputs": [
    {
     "name": "stdout",
     "output_type": "stream",
     "text": [
      "[['Datetime', 8760], ['Error', 8760], ['Absolute Error', 8760], ['Squared Error', 8760], ['Relative Error', 8760]]\n"
     ]
    },
    {
     "data": {
      "text/plain": [
       "[1125.6511613553837, 818.7812227158225, 3.1897791392504904, 10158.89531360101]"
      ]
     },
     "execution_count": 24,
     "metadata": {},
     "output_type": "execute_result"
    }
   ],
   "source": [
    "df_Linear, Linear_metrics = metrics(Linear_predictions, y_test)\n",
    "Linear_metrics"
   ]
  },
  {
   "cell_type": "markdown",
   "id": "624da6a6",
   "metadata": {},
   "source": [
    "## XGBoost"
   ]
  },
  {
   "cell_type": "code",
   "execution_count": 25,
   "id": "da325c05",
   "metadata": {},
   "outputs": [],
   "source": [
    "from skforecast.ForecasterAutoreg import ForecasterAutoreg\n",
    "from xgboost.sklearn import XGBRegressor\n",
    "\n",
    "# Crear el forecaster\n",
    "# ==============================================================================\n",
    "XGB_forecaster = ForecasterAutoreg(\n",
    "                 regressor = XGBRegressor(),\n",
    "#                  lags = [1, 2, 3] + [24*i-1 for i in range(1, 8)] + [24*i for i in range(1, 8)] + [24*i+1 for i in range(1, 8)]\n",
    "                 lags = lags\n",
    "            )\n",
    "             \n",
    "# Entrena el forecaster\n",
    "# ==============================================================================\n",
    "XGB_forecaster.fit(y=pd.Series(y_train+y_val),\n",
    "                  exog = exog_train_val)\n",
    "# forecaster"
   ]
  },
  {
   "cell_type": "code",
   "execution_count": 26,
   "id": "e6afee2d",
   "metadata": {},
   "outputs": [],
   "source": [
    "XGB_predictions = predict (XGB_forecaster, y, len(y_train+y_val), len(y_test), True, exog_test)"
   ]
  },
  {
   "cell_type": "code",
   "execution_count": 27,
   "id": "dadd9729",
   "metadata": {},
   "outputs": [
    {
     "name": "stdout",
     "output_type": "stream",
     "text": [
      "[['Datetime', 8760], ['Error', 8760], ['Absolute Error', 8760], ['Squared Error', 8760], ['Relative Error', 8760]]\n"
     ]
    },
    {
     "data": {
      "text/plain": [
       "[793.2025138323992, 570.9370375107546, 2.209481964553227, 5903.052829011111]"
      ]
     },
     "execution_count": 27,
     "metadata": {},
     "output_type": "execute_result"
    }
   ],
   "source": [
    "df_XGB, XGB_metrics = metrics(XGB_predictions, y_test)\n",
    "XGB_metrics"
   ]
  },
  {
   "cell_type": "markdown",
   "id": "d14ac0f4",
   "metadata": {},
   "source": [
    "# Regressive Models"
   ]
  },
  {
   "cell_type": "markdown",
   "id": "e0aee562",
   "metadata": {},
   "source": [
    "### LGBM forecaster"
   ]
  },
  {
   "cell_type": "code",
   "execution_count": 28,
   "id": "edf656ca",
   "metadata": {},
   "outputs": [],
   "source": [
    "from skforecast.ForecasterAutoreg import ForecasterAutoreg\n",
    "from lightgbm import LGBMRegressor\n",
    "\n",
    "# Crear el forecaster\n",
    "# ==============================================================================\n",
    "LGBM_forecaster = ForecasterAutoreg(\n",
    "                 regressor = LGBMRegressor(verbose=-1),\n",
    "#                  lags = [1, 2, 3] + [24*i-1 for i in range(1, 8)] + [24*i for i in range(1, 8)] + [24*i+1 for i in range(1, 8)]\n",
    "                 lags = lags\n",
    "            )\n",
    "             \n",
    "# Entrena el forecaster\n",
    "# ==============================================================================\n",
    "LGBM_forecaster.fit(y=pd.Series(y_train+y_val),\n",
    "                  exog = exog_train_val)\n",
    "# forecaster"
   ]
  },
  {
   "cell_type": "code",
   "execution_count": 29,
   "id": "f0bfcf0c",
   "metadata": {},
   "outputs": [],
   "source": [
    "LGBM_predictions = predict (LGBM_forecaster, y, len(y_train+y_val), len(y_test), True, exog_test)"
   ]
  },
  {
   "cell_type": "code",
   "execution_count": 30,
   "id": "b1d4cddc",
   "metadata": {
    "scrolled": true
   },
   "outputs": [
    {
     "name": "stdout",
     "output_type": "stream",
     "text": [
      "[['Datetime', 8760], ['Error', 8760], ['Absolute Error', 8760], ['Squared Error', 8760], ['Relative Error', 8760]]\n"
     ]
    },
    {
     "data": {
      "text/plain": [
       "[851.6162863848489, 610.1992500711868, 2.3725206066756983, 4878.113160390763]"
      ]
     },
     "execution_count": 30,
     "metadata": {},
     "output_type": "execute_result"
    }
   ],
   "source": [
    "df_LGBM, LGBM_metrics = metrics(LGBM_predictions, y_test)\n",
    "LGBM_metrics"
   ]
  },
  {
   "cell_type": "markdown",
   "id": "5c474f27",
   "metadata": {},
   "source": [
    "# Random Forest"
   ]
  },
  {
   "cell_type": "code",
   "execution_count": 31,
   "id": "faee519f",
   "metadata": {},
   "outputs": [],
   "source": [
    "from skforecast.ForecasterAutoreg import ForecasterAutoreg\n",
    "from sklearn.ensemble import RandomForestRegressor\n",
    "\n",
    "# Crear el forecaster\n",
    "# ==============================================================================\n",
    "RF_forecaster = ForecasterAutoreg(\n",
    "                 regressor = RandomForestRegressor(),\n",
    "#                  lags = [1, 2, 3] + [24*i-1 for i in range(1, 8)] + [24*i for i in range(1, 8)] + [24*i+1 for i in range(1, 8)]\n",
    "                 lags = lags\n",
    "            )\n",
    "             \n",
    "# Entrena el forecaster\n",
    "# ==============================================================================\n",
    "RF_forecaster.fit(y=pd.Series(y_train+y_val),\n",
    "                  exog = exog_train_val)\n",
    "# forecaster"
   ]
  },
  {
   "cell_type": "code",
   "execution_count": 32,
   "id": "8c764a6b",
   "metadata": {},
   "outputs": [],
   "source": [
    "RF_predictions = predict (RF_forecaster, y, len(y_train+y_val), len(y_test), True, exog_test)"
   ]
  },
  {
   "cell_type": "code",
   "execution_count": 33,
   "id": "389b77d7",
   "metadata": {},
   "outputs": [
    {
     "name": "stdout",
     "output_type": "stream",
     "text": [
      "[['Datetime', 8760], ['Error', 8760], ['Absolute Error', 8760], ['Squared Error', 8760], ['Relative Error', 8760]]\n"
     ]
    },
    {
     "data": {
      "text/plain": [
       "[919.1650425334346, 637.578505082968, 2.4542599423270786, 6331.093332900004]"
      ]
     },
     "execution_count": 33,
     "metadata": {},
     "output_type": "execute_result"
    }
   ],
   "source": [
    "df_RF, RF_metrics = metrics(RF_predictions, y_test)\n",
    "RF_metrics"
   ]
  },
  {
   "cell_type": "markdown",
   "id": "72e88f9b",
   "metadata": {},
   "source": [
    "# Error analysis"
   ]
  },
  {
   "cell_type": "code",
   "execution_count": 49,
   "id": "ebbacb62",
   "metadata": {},
   "outputs": [
    {
     "data": {
      "text/html": [
       "<div>\n",
       "<style scoped>\n",
       "    .dataframe tbody tr th:only-of-type {\n",
       "        vertical-align: middle;\n",
       "    }\n",
       "\n",
       "    .dataframe tbody tr th {\n",
       "        vertical-align: top;\n",
       "    }\n",
       "\n",
       "    .dataframe thead th {\n",
       "        text-align: right;\n",
       "    }\n",
       "</style>\n",
       "<table border=\"1\" class=\"dataframe\">\n",
       "  <thead>\n",
       "    <tr style=\"text-align: right;\">\n",
       "      <th></th>\n",
       "      <th>Linear</th>\n",
       "      <th>XGBoost</th>\n",
       "      <th>LGBM</th>\n",
       "      <th>RF</th>\n",
       "    </tr>\n",
       "  </thead>\n",
       "  <tbody>\n",
       "    <tr>\n",
       "      <th>RMSE</th>\n",
       "      <td>1125.651161</td>\n",
       "      <td>793.202514</td>\n",
       "      <td>851.616286</td>\n",
       "      <td>919.165043</td>\n",
       "    </tr>\n",
       "    <tr>\n",
       "      <th>MAE</th>\n",
       "      <td>818.781223</td>\n",
       "      <td>570.937038</td>\n",
       "      <td>610.199250</td>\n",
       "      <td>637.578505</td>\n",
       "    </tr>\n",
       "    <tr>\n",
       "      <th>MAX</th>\n",
       "      <td>3.189779</td>\n",
       "      <td>2.209482</td>\n",
       "      <td>2.372521</td>\n",
       "      <td>2.454260</td>\n",
       "    </tr>\n",
       "    <tr>\n",
       "      <th>3</th>\n",
       "      <td>10158.895314</td>\n",
       "      <td>5903.052829</td>\n",
       "      <td>4878.113160</td>\n",
       "      <td>6331.093333</td>\n",
       "    </tr>\n",
       "  </tbody>\n",
       "</table>\n",
       "</div>"
      ],
      "text/plain": [
       "            Linear      XGBoost         LGBM           RF\n",
       "RMSE   1125.651161   793.202514   851.616286   919.165043\n",
       "MAE     818.781223   570.937038   610.199250   637.578505\n",
       "MAX       3.189779     2.209482     2.372521     2.454260\n",
       "3     10158.895314  5903.052829  4878.113160  6331.093333"
      ]
     },
     "execution_count": 49,
     "metadata": {},
     "output_type": "execute_result"
    }
   ],
   "source": [
    "errors = {}\n",
    "errors['Linear'] = Linear_metrics\n",
    "errors['XGBoost'] = XGB_metrics\n",
    "errors['LGBM'] = LGBM_metrics\n",
    "errors['RF'] = RF_metrics\n",
    "errors = pd.DataFrame (errors)\n",
    "\n",
    "errors = errors.rename(index={0: 'RMSE', 1: 'MAE', 2:'MAX'})\n",
    "\n",
    "errors"
   ]
  },
  {
   "cell_type": "code",
   "execution_count": 50,
   "id": "22c474be",
   "metadata": {},
   "outputs": [],
   "source": [
    "df_errors = {}\n",
    "df_errors ['Linear'] = df_Linear\n",
    "df_errors ['XGBoost'] = df_XGB\n",
    "df_errors ['LGBM'] = df_LGBM\n",
    "df_errors ['RF'] = df_RF"
   ]
  },
  {
   "cell_type": "code",
   "execution_count": 51,
   "id": "243aa563",
   "metadata": {},
   "outputs": [],
   "source": [
    "def hourly_error (type_of_error):\n",
    "    errors_horas = {name:[] for name in df_errors.keys()}\n",
    "    for name in errors_horas.keys():\n",
    "        for i in range (24):\n",
    "            auxdf = df_errors[name][df_errors[name]['Datetime'].dt.hour == i]\n",
    "            if type_of_error == 'RMSE':\n",
    "                errors_horas[name].append(np.sqrt(np.mean(auxdf['Squared Error'])))\n",
    "            elif type_of_error == 'MAE':\n",
    "                errors_horas[name].append(np.mean(auxdf['Absolute Error']))\n",
    "            elif type_of_error == 'MAPE':\n",
    "                errors_horas[name].append(np.mean(auxdf['Relative Error']))\n",
    "            elif type_of_error == 'MAX':\n",
    "                errors_horas[name].append(max(auxdf['Relative Error']))\n",
    "            \n",
    "    errors_horas = pd.DataFrame (errors_horas)\n",
    "    plt.title(type_of_error + ' for different models')\n",
    "    plt.xlabel('Hour')\n",
    "    plt.plot(errors_horas, label=errors_horas.columns)\n",
    "    plt.legend(loc='center left', bbox_to_anchor=(1, 0.5))\n",
    "    plt.plot()\n",
    "    return errors_horas"
   ]
  },
  {
   "cell_type": "code",
   "execution_count": 52,
   "id": "9bcadcf0",
   "metadata": {
    "scrolled": true
   },
   "outputs": [
    {
     "data": {
      "image/png": "[encoded data removed]",
      "text/plain": [
       "<Figure size 432x288 with 1 Axes>"
      ]
     },
     "metadata": {
      "needs_background": "light"
     },
     "output_type": "display_data"
    }
   ],
   "source": [
    "errors_horas_rmse = hourly_error ('RMSE')"
   ]
  },
  {
   "cell_type": "code",
   "execution_count": 53,
   "id": "5c495e21",
   "metadata": {},
   "outputs": [
    {
     "data": {
      "image/png": "[encoded data removed]",
      "text/plain": [
       "<Figure size 432x288 with 1 Axes>"
      ]
     },
     "metadata": {
      "needs_background": "light"
     },
     "output_type": "display_data"
    }
   ],
   "source": [
    "errors_horas_mae = hourly_error ('MAE')"
   ]
  },
  {
   "cell_type": "code",
   "execution_count": 54,
   "id": "4c7a9b01",
   "metadata": {},
   "outputs": [
    {
     "data": {
      "image/png": "[encoded data removed]",
      "text/plain": [
       "<Figure size 432x288 with 1 Axes>"
      ]
     },
     "metadata": {
      "needs_background": "light"
     },
     "output_type": "display_data"
    }
   ],
   "source": [
    "errors_horas_mae = hourly_error ('MAPE')"
   ]
  },
  {
   "cell_type": "code",
   "execution_count": 55,
   "id": "f8a6874d",
   "metadata": {},
   "outputs": [
    {
     "data": {
      "image/png": "[encoded data removed]",
      "text/plain": [
       "<Figure size 432x288 with 1 Axes>"
      ]
     },
     "metadata": {
      "needs_background": "light"
     },
     "output_type": "display_data"
    }
   ],
   "source": [
    "errors_horas_mae = hourly_error ('MAX')"
   ]
  },
  {
   "cell_type": "code",
   "execution_count": 56,
   "id": "ebc7ed9f",
   "metadata": {},
   "outputs": [],
   "source": [
    "def weekly_error(type_of_error):\n",
    "    errors_weekly = {name: [] for name in df_errors.keys()}\n",
    "    for name in errors_weekly.keys():\n",
    "        for i in range(7):\n",
    "            auxdf = df_errors[name][df_errors[name]['Datetime'].dt.weekday == i]\n",
    "            if type_of_error == 'RMSE':\n",
    "                errors_weekly[name].append(np.sqrt(np.mean(auxdf['Squared Error'])))\n",
    "            elif type_of_error == 'MAE':\n",
    "                errors_weekly[name].append(np.mean(auxdf['Absolute Error']))\n",
    "            elif type_of_error == 'MAPE':\n",
    "                errors_weekly[name].append(np.mean(auxdf['Relative Error']))\n",
    "            elif type_of_error == 'MAX':\n",
    "                errors_weekly[name].append(max(auxdf['Absolute Error']))\n",
    "\n",
    "    # Plot each set of errors separately\n",
    "    for name, errors in errors_weekly.items():\n",
    "        plt.plot(range(7), errors, label=name)  # Assuming 0-6 corresponds to Monday-Sunday\n",
    "        \n",
    "    plt.title(type_of_error + ' for different models')\n",
    "    plt.xlabel('Day of the week')\n",
    "    plt.xticks(range(7), ['L', 'M', 'X', 'J', 'V', 'S', 'D'])\n",
    "    plt.legend(loc='center left', bbox_to_anchor=(1, 0.5))\n",
    "    plt.show()\n",
    "\n",
    "    errors_weekly = pd.DataFrame(errors_weekly)\n",
    "    return errors_weekly"
   ]
  },
  {
   "cell_type": "code",
   "execution_count": 57,
   "id": "a87efcc4",
   "metadata": {},
   "outputs": [
    {
     "data": {
      "image/png": "[encoded data removed]",
      "text/plain": [
       "<Figure size 432x288 with 1 Axes>"
      ]
     },
     "metadata": {
      "needs_background": "light"
     },
     "output_type": "display_data"
    }
   ],
   "source": [
    "errors_weekly_rmse = weekly_error ('RMSE')"
   ]
  },
  {
   "cell_type": "code",
   "execution_count": 58,
   "id": "64470c4e",
   "metadata": {},
   "outputs": [
    {
     "data": {
      "image/png": "[encoded data removed]",
      "text/plain": [
       "<Figure size 432x288 with 1 Axes>"
      ]
     },
     "metadata": {
      "needs_background": "light"
     },
     "output_type": "display_data"
    }
   ],
   "source": [
    "errors_weekly_rmse = weekly_error ('MAE')"
   ]
  },
  {
   "cell_type": "code",
   "execution_count": 59,
   "id": "184d544a",
   "metadata": {},
   "outputs": [
    {
     "data": {
      "image/png": "[encoded data removed]",
      "text/plain": [
       "<Figure size 432x288 with 1 Axes>"
      ]
     },
     "metadata": {
      "needs_background": "light"
     },
     "output_type": "display_data"
    }
   ],
   "source": [
    "errors_weekly_rmse = weekly_error ('MAPE')"
   ]
  },
  {
   "cell_type": "code",
   "execution_count": 60,
   "id": "5dfa2e04",
   "metadata": {},
   "outputs": [
    {
     "data": {
      "image/png": "[encoded data removed]",
      "text/plain": [
       "<Figure size 432x288 with 1 Axes>"
      ]
     },
     "metadata": {
      "needs_background": "light"
     },
     "output_type": "display_data"
    }
   ],
   "source": [
    "errors_weekly_rmse = weekly_error ('MAX')"
   ]
  },
  {
   "cell_type": "markdown",
   "id": "42651d88",
   "metadata": {},
   "source": [
    "### Histograms"
   ]
  },
  {
   "cell_type": "code",
   "execution_count": 61,
   "id": "00ffbbe7",
   "metadata": {
    "scrolled": true
   },
   "outputs": [
    {
     "data": {
      "image/png": "[encoded data removed]",
      "text/plain": [
       "<Figure size 432x288 with 1 Axes>"
      ]
     },
     "metadata": {
      "needs_background": "light"
     },
     "output_type": "display_data"
    }
   ],
   "source": [
    "nbins = int (np.sqrt(len(y_test)))\n",
    "# print (nbins)\n",
    "\n",
    "for name in df_errors.keys():\n",
    "    max_value = 0\n",
    "    min_value = 0\n",
    "    if max(df_errors[name]['Error']) >= max_value:\n",
    "        max_value = max(df_errors[name]['Error'])\n",
    "    if min(df_errors[name]['Error']) <= min_value:\n",
    "        min_value = min(df_errors[name]['Error'])\n",
    "bin_edges = np.linspace(min_value, max_value, nbins + 1)\n",
    "\n",
    "plt.title('Error for different models')\n",
    "for name in df_errors.keys():\n",
    "    plt.hist(df_errors[name]['Error'], bins = bin_edges, label=name, alpha=0.5)\n",
    "    plt.legend(loc='center left', bbox_to_anchor=(1, 0.5))\n",
    "plt.show()"
   ]
  },
  {
   "cell_type": "code",
   "execution_count": 62,
   "id": "4e8d29dc",
   "metadata": {},
   "outputs": [
    {
     "data": {
      "text/html": [
       "<div>\n",
       "<style scoped>\n",
       "    .dataframe tbody tr th:only-of-type {\n",
       "        vertical-align: middle;\n",
       "    }\n",
       "\n",
       "    .dataframe tbody tr th {\n",
       "        vertical-align: top;\n",
       "    }\n",
       "\n",
       "    .dataframe thead th {\n",
       "        text-align: right;\n",
       "    }\n",
       "</style>\n",
       "<table border=\"1\" class=\"dataframe\">\n",
       "  <thead>\n",
       "    <tr style=\"text-align: right;\">\n",
       "      <th></th>\n",
       "      <th>Linear</th>\n",
       "      <th>XGBoost</th>\n",
       "      <th>LGBM</th>\n",
       "      <th>RF</th>\n",
       "    </tr>\n",
       "  </thead>\n",
       "  <tbody>\n",
       "    <tr>\n",
       "      <th>mean</th>\n",
       "      <td>14.006179</td>\n",
       "      <td>8.439608</td>\n",
       "      <td>5.951742</td>\n",
       "      <td>-7.456261</td>\n",
       "    </tr>\n",
       "    <tr>\n",
       "      <th>sigma</th>\n",
       "      <td>1125.564020</td>\n",
       "      <td>793.157614</td>\n",
       "      <td>851.595488</td>\n",
       "      <td>919.134799</td>\n",
       "    </tr>\n",
       "    <tr>\n",
       "      <th>mean+-1sigma</th>\n",
       "      <td>0.768379</td>\n",
       "      <td>0.758105</td>\n",
       "      <td>0.754566</td>\n",
       "      <td>0.777626</td>\n",
       "    </tr>\n",
       "    <tr>\n",
       "      <th>mean+-2sigma</th>\n",
       "      <td>0.949886</td>\n",
       "      <td>0.947603</td>\n",
       "      <td>0.942922</td>\n",
       "      <td>0.942123</td>\n",
       "    </tr>\n",
       "    <tr>\n",
       "      <th>mean+-3sigma</th>\n",
       "      <td>0.986301</td>\n",
       "      <td>0.987100</td>\n",
       "      <td>0.984361</td>\n",
       "      <td>0.983562</td>\n",
       "    </tr>\n",
       "    <tr>\n",
       "      <th>mean+-4sigma</th>\n",
       "      <td>0.995434</td>\n",
       "      <td>0.995890</td>\n",
       "      <td>0.996347</td>\n",
       "      <td>0.993950</td>\n",
       "    </tr>\n",
       "  </tbody>\n",
       "</table>\n",
       "</div>"
      ],
      "text/plain": [
       "                   Linear     XGBoost        LGBM          RF\n",
       "mean            14.006179    8.439608    5.951742   -7.456261\n",
       "sigma         1125.564020  793.157614  851.595488  919.134799\n",
       "mean+-1sigma     0.768379    0.758105    0.754566    0.777626\n",
       "mean+-2sigma     0.949886    0.947603    0.942922    0.942123\n",
       "mean+-3sigma     0.986301    0.987100    0.984361    0.983562\n",
       "mean+-4sigma     0.995434    0.995890    0.996347    0.993950"
      ]
     },
     "execution_count": 62,
     "metadata": {},
     "output_type": "execute_result"
    }
   ],
   "source": [
    "variables = ['mean', 'sigma', 'mean+-1sigma', 'mean+-2sigma', 'mean+-3sigma', 'mean+-4sigma']\n",
    "nsigmas = 4\n",
    "\n",
    "error_stats = pd.DataFrame()\n",
    "\n",
    "for name in df_errors.keys():\n",
    "    aux = []\n",
    "    length = len(df_errors[name])\n",
    "    mean = np.mean(df_errors[name]['Error'])\n",
    "    aux.append(mean)\n",
    "    sigma = np.std(df_errors[name]['Error'])\n",
    "    aux.append(sigma)\n",
    "    for n in range(1,nsigmas+1):\n",
    "        auxdf = df_errors[name][(df_errors[name]['Error']>=mean-n*sigma) & (df_errors[name]['Error']<=mean+n*sigma)]\n",
    "        aux.append(len(auxdf)/length)\n",
    "    error_stats [name] = aux\n",
    "\n",
    "error_stats.index = variables\n",
    "error_stats"
   ]
  },
  {
   "cell_type": "code",
   "execution_count": 63,
   "id": "2121a294",
   "metadata": {},
   "outputs": [
    {
     "data": {
      "image/png": "[encoded data removed]",
      "text/plain": [
       "<Figure size 432x288 with 1 Axes>"
      ]
     },
     "metadata": {
      "needs_background": "light"
     },
     "output_type": "display_data"
    },
    {
     "data": {
      "image/png": "[encoded data removed]",
      "text/plain": [
       "<Figure size 432x288 with 1 Axes>"
      ]
     },
     "metadata": {
      "needs_background": "light"
     },
     "output_type": "display_data"
    },
    {
     "data": {
      "image/png": "[encoded data removed]",
      "text/plain": [
       "<Figure size 432x288 with 1 Axes>"
      ]
     },
     "metadata": {
      "needs_background": "light"
     },
     "output_type": "display_data"
    },
    {
     "data": {
      "image/png": "[encoded data removed]",
      "text/plain": [
       "<Figure size 432x288 with 1 Axes>"
      ]
     },
     "metadata": {
      "needs_background": "light"
     },
     "output_type": "display_data"
    }
   ],
   "source": [
    "day_division = {\n",
    "    'Night': [x for x in range (6)],\n",
    "    'Morning': [x for x in range (6,12)],\n",
    "    'Lunch': [x for x in range (12, 18)],\n",
    "    'Afternoon': [x for x in range (18,24)]\n",
    "    \n",
    "}\n",
    "\n",
    "nbins = int (np.sqrt(len(y_test)))\n",
    "# print (nbins)\n",
    "\n",
    "for name in df_errors.keys():\n",
    "    plt.title('Error for different periods of the day for '+name+' model')\n",
    "    max_value = 0\n",
    "    min_value = 0\n",
    "    for period in day_division.keys():\n",
    "        auxdf = df_errors[name][df_errors[name]['Datetime'].dt.hour.isin(day_division[period])]\n",
    "        if max(auxdf['Error']) >= max_value:\n",
    "            max_value = max(auxdf['Error'])\n",
    "        if min(auxdf['Error']) <= min_value:\n",
    "            min_value = min(auxdf['Error'])\n",
    "    bin_edges = np.linspace(min_value, max_value, nbins + 1)\n",
    "    for period in day_division.keys():\n",
    "        auxdf = df_errors[name][df_errors[name]['Datetime'].dt.hour.isin(day_division[period])]\n",
    "        plt.hist(auxdf['Error'], bins = bin_edges, label=period, alpha=0.5)\n",
    "        plt.legend(loc='center left', bbox_to_anchor=(1, 0.5))\n",
    "    plt.show()"
   ]
  }
 ],
 "metadata": {
  "kernelspec": {
   "display_name": "Python 3 (ipykernel)",
   "language": "python",
   "name": "python3"
  },
  "language_info": {
   "codemirror_mode": {
    "name": "ipython",
    "version": 3
   },
   "file_extension": ".py",
   "mimetype": "text/x-python",
   "name": "python",
   "nbconvert_exporter": "python",
   "pygments_lexer": "ipython3",
   "version": "3.9.7"
  }
 },
 "nbformat": 4,
 "nbformat_minor": 5
}
